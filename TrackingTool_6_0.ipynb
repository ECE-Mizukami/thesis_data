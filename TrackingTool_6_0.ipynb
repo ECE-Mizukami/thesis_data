{
  "nbformat": 4,
  "nbformat_minor": 0,
  "metadata": {
    "colab": {
      "provenance": [],
      "authorship_tag": "ABX9TyOA5y5xF5tG5KomwqEs+oE5",
      "include_colab_link": true
    },
    "kernelspec": {
      "name": "python3",
      "display_name": "Python 3"
    },
    "language_info": {
      "name": "python"
    }
  },
  "cells": [
    {
      "cell_type": "markdown",
      "metadata": {
        "id": "view-in-github",
        "colab_type": "text"
      },
      "source": [
        "<a href=\"https://colab.research.google.com/github/ECE-Mizukami/thesis_data/blob/main/TrackingTool_6_0.ipynb\" target=\"_parent\"><img src=\"https://colab.research.google.com/assets/colab-badge.svg\" alt=\"Open In Colab\"/></a>"
      ]
    },
    {
      "cell_type": "code",
      "execution_count": null,
      "metadata": {
        "colab": {
          "base_uri": "https://localhost:8080/"
        },
        "id": "ABhXVZs_m1yl",
        "outputId": "6b769335-52e5-448b-908e-4914b3442460"
      },
      "outputs": [
        {
          "output_type": "stream",
          "name": "stdout",
          "text": [
            "Mounted at /content/drive\n"
          ]
        }
      ],
      "source": [
        "from google.colab import drive\n",
        "drive.mount('/content/drive')"
      ]
    },
    {
      "cell_type": "code",
      "source": [
        "elementumName = 'NH4Cl'"
      ],
      "metadata": {
        "id": "kOCKUiiZnVUx"
      },
      "execution_count": null,
      "outputs": []
    },
    {
      "cell_type": "code",
      "source": [
        "import pathlib\n",
        "import cv2\n",
        "import numpy as np\n",
        "import csv\n",
        "\n",
        "#ここから輪郭抽出処理を定義（ここでは何もしない）\n",
        "def contours(img):\n",
        "        contours, hierarchy = cv2.findContours(threshold_img, cv2.RETR_EXTERNAL, cv2.CHAIN_APPROX_SIMPLE)\n",
        "        areaTable = np.empty(0)\n",
        "        if len(contours) != 0:\n",
        "          for i in range(len(contours)):\n",
        "           contourArea = cv2.contourArea(contours[i])\n",
        "           A = int(contourArea)\n",
        "           areaTable = np.append(areaTable,A)\n",
        "          area = np.amax(areaTable)\n",
        "          frameContour = np.argmax(areaTable)\n",
        "          #contours = np.array(contours)\n",
        "          if area > 0.05:\n",
        "            x_max = np.amax(contours[frameContour].T[0, 0])\n",
        "            x_min = np.amin(contours[frameContour].T[0, 0])\n",
        "            y_max = np.amax(contours[frameContour].T[1, 0])\n",
        "            y_min = np.amin(contours[frameContour].T[1, 0])\n",
        "            contoursNum = len(contours)\n",
        "          else:\n",
        "            x_max = 0\n",
        "            x_min = 0\n",
        "            y_max = 0\n",
        "            y_min = 0\n",
        "            contoursNum = 0\n",
        "          return x_max,x_min,y_max,y_min,area,contoursNum\n",
        "        else:\n",
        "          return 0,0,0,0,0,0\n",
        "\n",
        "folderList = []\n",
        "p_temp = pathlib.Path('/content/drive/MyDrive/動画データ').glob(str(elementumName)+'*')\n",
        "for p in p_temp:\n",
        "  folderList.append(p.name)\n",
        "for i in range(len(folderList)):\n",
        "#for i in range(0,2):\n",
        "  folderPath =  ('/content/drive/MyDrive/動画データ/'+str(folderList[i]))\n",
        "  fileList = []\n",
        "  q_temp = pathlib.Path(str(folderPath)).glob('*.mp4')\n",
        "  print(folderList)\n",
        "  for q in q_temp:\n",
        "      fileList.append(q.name)\n",
        "  for j in range(len(fileList)):\n",
        "    filePath = ('/content/drive/MyDrive/動画データ/'+str(folderList[i])+'/'+str(fileList[j]))\n",
        "    fileName = filePath[:-4]\n",
        "    cap = cv2.VideoCapture(filePath)\n",
        "    if not cap.isOpened():\n",
        "      print(\"missed\")\n",
        "\n",
        "    digit = len(str(int(cap.get(cv2.CAP_PROP_FRAME_COUNT))))\n",
        "    m = 0\n",
        "    integral_threshould = 0\n",
        "    while True: #とりあえずすべてのフレームで閾値を求め、その平均を動画全体の閾値とする\n",
        "        is_image,frame_img = cap.read()#フレームの読み込み\n",
        "        if is_image:\n",
        "          #ここから二値化処理\n",
        "          gray = cv2.cvtColor(frame_img, cv2.COLOR_RGB2GRAY)\n",
        "          threshold_img = gray.copy()\n",
        "          point_threshould, dst = cv2.threshold(gray, 0, 255, cv2.THRESH_BINARY + cv2.THRESH_TRIANGLE) #トライアングルアルゴリズムは神、大津は微妙\n",
        "          #print(point_threshould,integral_threshould) #デバック用。各コマの閾値が見える。\n",
        "        else:\n",
        "            break\n",
        "        threshold_img[gray < point_threshould] = 0\n",
        "        threshold_img[gray >= point_threshould] = 255\n",
        "        if contours(threshold_img)[5] != 0:\n",
        "          m += 1\n",
        "          integral_threshould += point_threshould\n",
        "        if m > 150:\n",
        "          break\n",
        "    total_threshould = integral_threshould / m\n",
        "    print(total_threshould) #決定された閾値\n",
        "\n",
        "    cap = cv2.VideoCapture(filePath)\n",
        "\n",
        "    digit = len(str(int(cap.get(cv2.CAP_PROP_FRAME_COUNT))))\n",
        "\n",
        "    n = 0\n",
        "    old_n = 0\n",
        "    old_y=0\n",
        "    base_y=0\n",
        "    area=0\n",
        "    total_area=0\n",
        "    width=0\n",
        "    height=0\n",
        "    k = 1\n",
        "    pic_num = 1\n",
        "    unitPixel = 150 #計測区間の大きさを設定\n",
        "    maxPixel = 1080 #画像y座標の最大値を設定\n",
        "    #if float(folderPath[-3]) >= 2.0:\n",
        "    #  pixel_per_mm = 0.036\n",
        "    #else:\n",
        "    #  pixel_per_mm = 0.025\n",
        "    pixel_per_mm = 0.036 #1ピクセルは何mm\n",
        "    #pixel_per_mm = 0.023\n",
        "    print(pixel_per_mm)\n",
        "    #with open(\"/content/drive/MyDrive/data_analyses/\" +str(video_path)+'諸データ'+'.csv','w') as dataFile:\n",
        "    with open(str(fileName)+'諸データ'+'.csv','w') as dataFile:\n",
        "     writer = csv.writer(dataFile, lineterminator='\\n')\n",
        "     writer.writerow([0,'フレーム数','火炎位置','火炎速度','火炎幅','火炎最大高さ','平均火炎高さ','面積'])\n",
        "\n",
        "\n",
        "    #total_threshould = 8.5 #どうしても手動で閾値を決めたい時コメントアウトを外す\n",
        "\n",
        "    while True:\n",
        "         is_image,frame_img = cap.read()\n",
        "         gray = cv2.cvtColor(frame_img, cv2.COLOR_RGB2GRAY)\n",
        "         threshold_img = gray.copy()\n",
        "         threshold_img[gray < total_threshould] = 0\n",
        "         threshold_img[gray >= total_threshould] = 255\n",
        "         contoursArray = contours(threshold_img)\n",
        "         contoursNum = contoursArray[5]\n",
        "         area = contoursArray[4]\n",
        "         n += 1\n",
        "         if contoursNum != 0 and (area * pixel_per_mm * pixel_per_mm) >0.1:\n",
        "           old_n = n\n",
        "           startPos = n\n",
        "           break\n",
        "\n",
        "    while True:\n",
        "     while True: #画面内所定の座標に火炎が達するまで繰り返す\n",
        "         is_image,frame_img = cap.read()\n",
        "         gray = cv2.cvtColor(frame_img, cv2.COLOR_RGB2GRAY)\n",
        "         threshold_img = gray.copy()\n",
        "         threshold_img[gray < total_threshould] = 0\n",
        "         threshold_img[gray >= total_threshould] = 255\n",
        "         contoursNum = contours(threshold_img)[5]\n",
        "         area = contours(threshold_img)[4]\n",
        "         if contoursNum != 0 and (area * pixel_per_mm * pixel_per_mm) >0.1:\n",
        "            contoursArray = contours(threshold_img)\n",
        "            x_max = contoursArray[0]\n",
        "            y_max = contoursArray[2] #火炎下端の位置を取得\n",
        "            x_min = contoursArray[1]\n",
        "            y_min = contoursArray[3]\n",
        "\n",
        "         #print(x_max,x_min,y_max,y_min)\n",
        "            if k > 1: #最初の区間は火炎の全景が見えていない可能性があるので計測しない \n",
        "                 width = (x_max - x_min)*pixel_per_mm\n",
        "                 total_area = area * pixel_per_mm * pixel_per_mm\n",
        "                 height = (y_max-y_min)*pixel_per_mm\n",
        "                 ave_height = total_area / width\n",
        "            else:\n",
        "               width = \"Nan\"\n",
        "               height = \"Nan\"\n",
        "               ave_height = \"Nan\"\n",
        "               total_area = \"Nan\"\n",
        "            if y_max > (unitPixel * k) or y_max > maxPixel-10: #ここでループ判定\n",
        "               #cv2.imwrite(R\"/content/drive/MyDrive/data_analyses/frame_captures\" + str(pic_num).zfill(digit) + \".jpg\" , threshold_img) #GoogleDrive内の所定のフォルダに火炎画像を保存する\n",
        "               pic_num += 1\n",
        "               break\n",
        "            n += 1\n",
        "            #with open(\"/content/drive/MyDrive/data_analyses/\" +str(video_path)+'諸データ'+'.csv','a') as dataFile:\n",
        "            with open(str(fileName)+'諸データ'+'.csv','a') as dataFile:\n",
        "               writer = csv.writer(dataFile, lineterminator='\\n')\n",
        "               writer.writerow([n-startPos,n,y_max,'',width,height,ave_height,total_area])\n",
        "         else:\n",
        "           y_max = \"Nan\"\n",
        "           width = \"Nan\"\n",
        "           total_area = \"Nan\"\n",
        "           n += 1\n",
        "           with open(str(fileName)+'諸データ'+'.csv','a') as dataFile:\n",
        "             writer = csv.writer(dataFile, lineterminator='\\n')\n",
        "             writer.writerow([n-startPos,n,y_max,'',width,height,ave_height,total_area])\n",
        "     velocity = (y_max-old_y)/((n-old_n)*(1/24))\n",
        "     old_n = n\n",
        "     k += 1\n",
        "     old_y = y_max\n",
        "     print(n,\"y座標は\",y_max,\"　速度は\",velocity*pixel_per_mm,\"ミリ毎秒\")\n",
        "     #with open(\"/content/drive/MyDrive/data_analyses/\" +str(video_path)+'諸データ'+'.csv','a') as dataFile:\n",
        "     with open(str(fileName)+'諸データ'+'.csv','a') as dataFile:\n",
        "           writer = csv.writer(dataFile, lineterminator='\\n')\n",
        "           writer.writerow([n-startPos,n,y_max,velocity*pixel_per_mm,width,height,ave_height,total_area])\n",
        "     #print(total_area)\n",
        "     #print(value)\n",
        "     #print(k)\n",
        "     if (k+1) * unitPixel >= maxPixel:\n",
        "       break\n",
        "\n",
        "    total_velocity = y_max / ((n-startPos) * (1/24))\n",
        "    print(\"平均速度は\",total_velocity*pixel_per_mm,\"ミリ毎秒\")"
      ],
      "metadata": {
        "colab": {
          "base_uri": "https://localhost:8080/"
        },
        "id": "lLJpVSwknDQw",
        "outputId": "94acceea-b178-4dbf-97b0-8e5e99f4d6b8"
      },
      "execution_count": null,
      "outputs": [
        {
          "output_type": "stream",
          "name": "stdout",
          "text": [
            "['NH4Cl-0.5']\n",
            "2.0\n",
            "0.036\n",
            "73 y座標は 151 　速度は 2.718 ミリ毎秒\n",
            "121 y座標は 301 　速度は 2.6999999999999997 ミリ毎秒\n",
            "174 y座標は 453 　速度は 2.4778867924528303 ミリ毎秒\n",
            "222 y座標は 601 　速度は 2.6639999999999997 ミリ毎秒\n",
            "274 y座標は 753 　速度は 2.5255384615384617 ミリ毎秒\n",
            "318 y座標は 901 　速度は 2.906181818181818 ミリ毎秒\n",
            "平均速度は 2.6568737201365185 ミリ毎秒\n",
            "2.0\n",
            "0.036\n",
            "98 y座標は 151 　速度は 1.73952 ミリ毎秒\n",
            "146 y座標は 301 　速度は 2.6999999999999997 ミリ毎秒\n",
            "193 y座標は 461 　速度は 2.941276595744681 ミリ毎秒\n",
            "250 y座標は 602 　速度は 2.1372631578947368 ミリ毎秒\n",
            "301 y座標は 753 　速度は 2.5581176470588236 ミリ毎秒\n",
            "349 y座標は 905 　速度は 2.7359999999999998 ミリ毎秒\n",
            "平均速度は 2.3985276073619635 ミリ毎秒\n"
          ]
        }
      ]
    },
    {
      "cell_type": "code",
      "source": [
        "folderList = []\n",
        "p_temp = pathlib.Path('/content/drive/MyDrive/動画データ').glob(str(elementumName)+'*')\n",
        "for p in p_temp:\n",
        "  folderList.append(p.name)\n",
        "for i in range(len(folderList)):\n",
        "#for i in range(8,9):\n",
        "  folderPath =  ('/content/drive/MyDrive/動画データ/'+str(folderList[i]))\n",
        "  fileList = []\n",
        "  q_temp = pathlib.Path(str(folderPath)).glob('*.mp4')\n",
        "print(folderList)"
      ],
      "metadata": {
        "id": "vIWHZTHbGYdq",
        "outputId": "38399dfe-af67-4d89-81e7-2bbedfe3bdfe",
        "colab": {
          "base_uri": "https://localhost:8080/"
        }
      },
      "execution_count": null,
      "outputs": [
        {
          "output_type": "stream",
          "name": "stdout",
          "text": [
            "['K2CO3-0.1', 'K2CO3-0.2', 'K2CO3-0.5', 'K2CO3-0.6', 'K2CO3-0.7', 'K2CO3-0.8', 'K2CO3-1.0', 'K2CO3-2.0', 'K2CO3-3.0']\n"
          ]
        }
      ]
    }
  ]
}